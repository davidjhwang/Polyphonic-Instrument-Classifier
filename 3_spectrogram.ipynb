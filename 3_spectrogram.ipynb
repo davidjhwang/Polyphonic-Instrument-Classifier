{
 "cells": [
  {
   "cell_type": "code",
   "execution_count": 1,
   "metadata": {},
   "outputs": [],
   "source": [
    "# Import Libraries\n",
    "import os\n",
    "import numpy as np\n",
    "import cupy as cp\n",
    "import librosa\n",
    "import torch\n",
    "import torchaudio\n",
    "import torchaudio.functional as F\n",
    "import torchaudio.transforms as T\n",
    "import concurrent.futures\n",
    "import matplotlib.pyplot as plt\n",
    "from tqdm import tqdm"
   ]
  },
  {
   "cell_type": "code",
   "execution_count": 2,
   "metadata": {},
   "outputs": [],
   "source": [
    "# Constants\n",
    "SAMPLE_RATE = 44100\n",
    "DURATION = 1.0\n",
    "N_MELS = 64\n",
    "HOP_LENGTH = 512 * 2\n",
    "N_FFT = 2048"
   ]
  },
  {
   "cell_type": "code",
   "execution_count": 3,
   "metadata": {},
   "outputs": [],
   "source": [
    "# =================== FOR EACH TRACK ===================\n",
    "# [Optimized GPU-Accelerated] Compute Mel Spectrogram\n",
    "def generate_mel_spect_gpu(audio_path, save_path=None):\n",
    "    # Load audio\n",
    "    y, _ = librosa.load(audio_path, sr=SAMPLE_RATE)\n",
    "    \n",
    "    samples_per_segment = int(DURATION * SAMPLE_RATE)\n",
    "    mel_spects = []\n",
    "\n",
    "    # Precompute Hann window and Mel filterbank on GPU\n",
    "    hann_window = torch.hann_window(N_FFT, device=\"cuda\")\n",
    "    mel_filters = F.melscale_fbanks(\n",
    "        n_freqs=N_FFT // 2 + 1,\n",
    "        f_min=30,\n",
    "        f_max=18000,\n",
    "        n_mels=N_MELS,\n",
    "        sample_rate=SAMPLE_RATE,\n",
    "        norm=None,\n",
    "        mel_scale=\"htk\",\n",
    "    ).T.to(\"cuda\")  # (n_mels, n_freq_bins)\n",
    "\n",
    "    # Compile spectrograms\n",
    "    for start in range(0, len(y), samples_per_segment):\n",
    "        # Extract segment\n",
    "        end = start + samples_per_segment\n",
    "        segment = y[start:end]\n",
    "        if len(segment) < samples_per_segment:\n",
    "            break\n",
    "\n",
    "        # Normalize the segment\n",
    "        segment = segment / np.max(np.abs(segment)) if np.max(np.abs(segment)) > 0 else segment  \n",
    "\n",
    "        # Move segment to GPU\n",
    "        segment_torch = torch.tensor(segment, dtype=torch.float32, device=\"cuda\")\n",
    "\n",
    "        # Compute STFT in one step (vectorized FFT)\n",
    "        stft = torch.stft(\n",
    "            segment_torch,\n",
    "            n_fft=N_FFT,\n",
    "            hop_length=HOP_LENGTH,\n",
    "            win_length=N_FFT,\n",
    "            window=hann_window,\n",
    "            return_complex=True,\n",
    "            center=False\n",
    "        )  # Shape: (freq_bins, time_frames)\n",
    "\n",
    "        # Compute power spectrum\n",
    "        power_spectrum = stft.abs().pow(2)  # Element-wise power (freq_bins, time_frames)\n",
    "\n",
    "        # Apply Mel filterbank in one step\n",
    "        mel_spectrogram_manual = torch.matmul(mel_filters, power_spectrum)\n",
    "\n",
    "        # Convert to decibels\n",
    "        mel_spectrogram_db = T.AmplitudeToDB()(mel_spectrogram_manual)\n",
    "\n",
    "        # Move back to CPU for saving\n",
    "        mel_spects.append(mel_spectrogram_db.cpu().numpy())\n",
    "\n",
    "    # Save to disk\n",
    "    if save_path:\n",
    "        np.save(save_path, np.array(mel_spects))\n",
    "\n",
    "    return mel_spects"
   ]
  },
  {
   "cell_type": "code",
   "execution_count": 4,
   "metadata": {},
   "outputs": [],
   "source": [
    "# =================== FOR EACH FOLDER ===================\n",
    "# [Parallel] Generate all Mel Spectrograms\n",
    "def process_dataset_parallel(dataset_path, save_dir):\n",
    "    track_folders = [os.path.join(dataset_path, d) for d in os.listdir(dataset_path) if d.startswith(\"Track\")]\n",
    "    os.makedirs(save_dir, exist_ok=True)\n",
    "\n",
    "    # Helper Function\n",
    "    def process_track(folder):\n",
    "        mix_path = os.path.join(folder, \"mix.flac\")\n",
    "        if os.path.exists(mix_path):\n",
    "            # Request spectrogram\n",
    "            track_name = os.path.basename(folder)\n",
    "            save_path = os.path.join(save_dir, f\"{track_name}_mel_spect.npy\")  \n",
    "            return generate_mel_spect_gpu(mix_path, save_path=save_path)\n",
    "        return []\n",
    "\n",
    "    # Parallel processing for requests\n",
    "    with concurrent.futures.ThreadPoolExecutor(max_workers=6) as executor:\n",
    "        results = list(tqdm(executor.map(process_track, track_folders), desc=\"Processing Tracks\"))\n",
    "    \n",
    "    return results"
   ]
  },
  {
   "cell_type": "code",
   "execution_count": 5,
   "metadata": {},
   "outputs": [
    {
     "name": "stderr",
     "output_type": "stream",
     "text": [
      "Processing Tracks: 1289it [03:38,  5.90it/s]\n"
     ]
    }
   ],
   "source": [
    "# Collect Spectrograms (Train)\n",
    "dataset_path = \"slakh2100_flac_redux/reduced_train\"\n",
    "save_dir = \"spectrograms_train\"  \n",
    "mel_spectrograms = process_dataset_parallel(dataset_path, save_dir)"
   ]
  },
  {
   "cell_type": "code",
   "execution_count": 6,
   "metadata": {},
   "outputs": [
    {
     "name": "stderr",
     "output_type": "stream",
     "text": [
      "Processing Tracks: 0it [00:00, ?it/s]"
     ]
    },
    {
     "name": "stderr",
     "output_type": "stream",
     "text": [
      "Processing Tracks: 270it [00:44,  6.07it/s]\n"
     ]
    }
   ],
   "source": [
    "# Collect Spectrograms (Validation)\n",
    "dataset_path = \"slakh2100_flac_redux/reduced_validation\"\n",
    "save_dir = \"spectrograms_validation\"  \n",
    "mel_spectrograms = process_dataset_parallel(dataset_path, save_dir)"
   ]
  },
  {
   "cell_type": "code",
   "execution_count": 7,
   "metadata": {},
   "outputs": [
    {
     "name": "stderr",
     "output_type": "stream",
     "text": [
      "Processing Tracks: 151it [00:27,  5.58it/s]\n"
     ]
    }
   ],
   "source": [
    "# Collect Spectrograms (Test)\n",
    "dataset_path = \"slakh2100_flac_redux/reduced_test\"\n",
    "save_dir = \"spectrograms_test\"  \n",
    "mel_spectrograms = process_dataset_parallel(dataset_path, save_dir)"
   ]
  },
  {
   "cell_type": "code",
   "execution_count": 12,
   "metadata": {},
   "outputs": [
    {
     "name": "stdout",
     "output_type": "stream",
     "text": [
      "(64, 42)\n"
     ]
    },
    {
     "data": {
      "image/png": "[encoded data removed]",
      "text/plain": [
       "<Figure size 800x500 with 2 Axes>"
      ]
     },
     "metadata": {},
     "output_type": "display_data"
    }
   ],
   "source": [
    "# Plotting Example\n",
    "spectrogram = np.load('spectrograms_test/Track01877_mel_spect.npy')\n",
    "print(spectrogram[0].shape)\n",
    "plt.figure(figsize=(8, 5))\n",
    "plt.imshow(spectrogram[11], aspect='auto', cmap='inferno')  \n",
    "plt.colorbar(format='%+2.0f dB')\n",
    "plt.title(\"Mel Spectrogram\")\n",
    "plt.xlabel(\"Time Frames\")\n",
    "plt.ylabel(\"Frequency Bins\")\n",
    "plt.show()"
   ]
  },
  {
   "cell_type": "code",
   "execution_count": 13,
   "metadata": {},
   "outputs": [
    {
     "name": "stdout",
     "output_type": "stream",
     "text": [
      "1st column Amplitude:\n",
      " [1.8824400e+01 7.4159332e+01 4.0005016e+01 2.1656027e+01 3.5225185e+01\n",
      " 3.9534740e+01 1.5538360e+01 3.6222752e+01 8.3239746e+01 1.6354251e+02\n",
      " 1.3411443e+02 3.0039766e+01 6.3943233e+00 9.5256453e+00 9.9483938e+00\n",
      " 4.3438969e+00 5.2086678e+01 6.2401390e+01 4.3296890e+00 1.0165173e+01\n",
      " 9.3883781e+00 1.8919529e+01 3.8399479e+01 3.8273339e+00 4.2712607e+00\n",
      " 3.6387796e+00 1.6723665e+01 6.1774793e+00 5.3277602e+00 2.7400707e+01\n",
      " 3.1378675e+01 1.7960963e+00 1.2898892e+01 1.6051800e+01 1.8414962e+00\n",
      " 1.2960665e+01 7.9752827e+00 1.2007244e+01 1.5138373e+01 8.1490936e+00\n",
      " 1.6943846e+01 6.9479895e+00 1.4378763e+01 1.0624250e+01 9.7970829e+00\n",
      " 9.6331425e+00 7.7103872e+00 1.6099022e+01 3.2220681e+00 1.6882267e+00\n",
      " 2.3144331e+00 1.9278882e+00 2.0312862e+00 1.9099202e+00 1.8890800e+00\n",
      " 1.4029617e+00 1.0005404e+00 6.6203225e-01 6.0471946e-01 4.0787941e-01\n",
      " 2.7679175e-01 1.7618756e-01 1.2655918e-01 7.0113972e-02]\n",
      "1st column in dB:\n",
      " [ 2.5494423e+01  3.7403316e+01  3.2042290e+01  2.6711576e+01\n",
      "  3.0937065e+01  3.1939579e+01  2.3828104e+01  3.1179628e+01\n",
      "  3.8406616e+01  4.4272614e+01  4.2549511e+01  2.9553930e+01\n",
      "  1.6115892e+01  1.9577888e+01  1.9955059e+01  1.2757589e+01\n",
      "  3.4334534e+01  3.5903885e+01  1.2729135e+01  2.0142296e+01\n",
      "  1.9451811e+01  2.5538206e+01  3.1686506e+01  1.1657927e+01\n",
      "  1.2611122e+01  1.1219115e+01  2.4466629e+01  1.5816226e+01\n",
      "  1.4530893e+01  2.8755236e+01  2.9932692e+01  5.0865927e+00\n",
      "  2.2211048e+01  2.4110474e+01  5.3034167e+00  2.2252544e+01\n",
      "  1.8034922e+01  2.1588867e+01  2.3601585e+01  1.8222187e+01\n",
      "  2.4580240e+01  1.6837183e+01  2.3154430e+01  2.0525967e+01\n",
      "  1.9821936e+01  1.9675360e+01  1.7741524e+01  2.4135990e+01\n",
      "  1.0162695e+01  4.5486155e+00  7.2888923e+00  5.7016368e+00\n",
      "  6.1554232e+00  5.6203041e+00  5.5250072e+00  2.9409165e+00\n",
      "  4.6921438e-03 -3.5824170e+00 -4.3689213e+00 -7.7893643e+00\n",
      " -1.1156937e+01 -1.5080495e+01 -1.7954126e+01 -2.3083908e+01]\n"
     ]
    }
   ],
   "source": [
    "amplitude_spectrogram = 10**(spectrogram[6] / 20)\n",
    "# Print amplitude values for the first and second columns\n",
    "print(\"1st column Amplitude:\\n\", amplitude_spectrogram[:, 0])\n",
    "print(\"1st column in dB:\\n\", spectrogram[6][:, 0])"
   ]
  }
 ],
 "metadata": {
  "kernelspec": {
   "display_name": "Python 3",
   "language": "python",
   "name": "python3"
  },
  "language_info": {
   "codemirror_mode": {
    "name": "ipython",
    "version": 3
   },
   "file_extension": ".py",
   "mimetype": "text/x-python",
   "name": "python",
   "nbconvert_exporter": "python",
   "pygments_lexer": "ipython3",
   "version": "3.10.6"
  }
 },
 "nbformat": 4,
 "nbformat_minor": 2
}
