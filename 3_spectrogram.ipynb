{
 "cells": [
  {
   "cell_type": "code",
   "execution_count": 1,
   "metadata": {},
   "outputs": [],
   "source": [
    "# Import Libraries\n",
    "import os\n",
    "import numpy as np\n",
    "import cupy as cp\n",
    "import librosa\n",
    "import torch\n",
    "import torchaudio\n",
    "import torchaudio.functional as F\n",
    "import torchaudio.transforms as T\n",
    "import concurrent.futures\n",
    "import matplotlib.pyplot as plt\n",
    "from tqdm import tqdm"
   ]
  },
  {
   "cell_type": "code",
   "execution_count": 2,
   "metadata": {},
   "outputs": [],
   "source": [
    "# Constants\n",
    "SAMPLE_RATE = 44100\n",
    "DURATION = 0.5\n",
    "N_MELS = 32\n",
    "HOP_LENGTH = 512\n",
    "N_FFT = 2048"
   ]
  },
  {
   "cell_type": "code",
   "execution_count": 3,
   "metadata": {},
   "outputs": [],
   "source": [
    "# =================== FOR EACH TRACK ===================\n",
    "# [Optimized GPU-Accelerated] Compute Mel Spectrogram\n",
    "def generate_mel_spect_gpu(audio_path, save_path=None):\n",
    "    # Load audio\n",
    "    y, _ = librosa.load(audio_path, sr=SAMPLE_RATE)\n",
    "    \n",
    "    samples_per_segment = int(DURATION * SAMPLE_RATE)\n",
    "    mel_spects = []\n",
    "\n",
    "    # Precompute Hann window and Mel filterbank on GPU\n",
    "    hann_window = torch.hann_window(N_FFT, device=\"cuda\")\n",
    "    mel_filters = F.melscale_fbanks(\n",
    "        n_freqs=N_FFT // 2 + 1,\n",
    "        f_min=0,\n",
    "        f_max=16000,\n",
    "        n_mels=N_MELS,\n",
    "        sample_rate=SAMPLE_RATE,\n",
    "        norm=None,\n",
    "        mel_scale=\"htk\",\n",
    "    ).T.to(\"cuda\")  # (n_mels, n_freq_bins)\n",
    "\n",
    "    # Compile spectrograms\n",
    "    for start in range(0, len(y), samples_per_segment):\n",
    "        # Extract segment\n",
    "        end = start + samples_per_segment\n",
    "        segment = y[start:end]\n",
    "        if len(segment) < samples_per_segment:\n",
    "            break\n",
    "\n",
    "        # Normalize the segment\n",
    "        segment = segment / np.max(np.abs(segment)) if np.max(np.abs(segment)) > 0 else segment  \n",
    "\n",
    "        # Move segment to GPU\n",
    "        segment_torch = torch.tensor(segment, dtype=torch.float32, device=\"cuda\")\n",
    "\n",
    "        # Compute STFT in one step (vectorized FFT)\n",
    "        stft = torch.stft(\n",
    "            segment_torch,\n",
    "            n_fft=N_FFT,\n",
    "            hop_length=HOP_LENGTH,\n",
    "            win_length=N_FFT,\n",
    "            window=hann_window,\n",
    "            return_complex=True,\n",
    "            center=False\n",
    "        )  # Shape: (freq_bins, time_frames)\n",
    "\n",
    "        # Compute power spectrum\n",
    "        power_spectrum = stft.abs().pow(2)  # Element-wise power (freq_bins, time_frames)\n",
    "\n",
    "        # Apply Mel filterbank in one step\n",
    "        mel_spectrogram_manual = torch.matmul(mel_filters, power_spectrum)\n",
    "\n",
    "        # Convert to decibels\n",
    "        mel_spectrogram_db = T.AmplitudeToDB()(mel_spectrogram_manual)\n",
    "\n",
    "        # Move back to CPU for saving\n",
    "        mel_spects.append(mel_spectrogram_db.cpu().numpy())\n",
    "\n",
    "    # Save to disk\n",
    "    if save_path:\n",
    "        np.save(save_path, np.array(mel_spects))\n",
    "\n",
    "    return mel_spects\n"
   ]
  },
  {
   "cell_type": "code",
   "execution_count": 4,
   "metadata": {},
   "outputs": [],
   "source": [
    "# =================== FOR EACH FOLDER ===================\n",
    "# [Parallel] Generate all Mel Spectrograms\n",
    "def process_dataset_parallel(dataset_path, save_dir):\n",
    "    track_folders = [os.path.join(dataset_path, d) for d in os.listdir(dataset_path) if d.startswith(\"Track\")]\n",
    "    os.makedirs(save_dir, exist_ok=True)\n",
    "\n",
    "    # Helper Function\n",
    "    def process_track(folder):\n",
    "        mix_path = os.path.join(folder, \"mix.flac\")\n",
    "        if os.path.exists(mix_path):\n",
    "            # Request spectrogram\n",
    "            track_name = os.path.basename(folder)\n",
    "            save_path = os.path.join(save_dir, f\"{track_name}_mel_spect.npy\")  \n",
    "            return generate_mel_spect_gpu(mix_path, save_path=save_path)\n",
    "        return []\n",
    "\n",
    "    # Parallel processing for requests\n",
    "    with concurrent.futures.ThreadPoolExecutor(max_workers=6) as executor:\n",
    "        results = list(tqdm(executor.map(process_track, track_folders), desc=\"Processing Tracks\"))\n",
    "    \n",
    "    return results"
   ]
  },
  {
   "cell_type": "code",
   "execution_count": 5,
   "metadata": {},
   "outputs": [
    {
     "name": "stderr",
     "output_type": "stream",
     "text": [
      "Processing Tracks: 1289it [04:30,  4.77it/s]\n"
     ]
    }
   ],
   "source": [
    "# Collect Spectrograms (Train)\n",
    "dataset_path = \"slakh2100_flac_redux/reduced_train\"\n",
    "save_dir = \"spectrograms_train\"  \n",
    "mel_spectrograms = process_dataset_parallel(dataset_path, save_dir)"
   ]
  },
  {
   "cell_type": "code",
   "execution_count": 6,
   "metadata": {},
   "outputs": [
    {
     "name": "stderr",
     "output_type": "stream",
     "text": [
      "Processing Tracks: 0it [00:00, ?it/s]"
     ]
    },
    {
     "name": "stderr",
     "output_type": "stream",
     "text": [
      "Processing Tracks: 270it [00:58,  4.63it/s]\n"
     ]
    }
   ],
   "source": [
    "# Collect Spectrograms (Validation)\n",
    "dataset_path = \"slakh2100_flac_redux/reduced_validation\"\n",
    "save_dir = \"spectrograms_validation\"  \n",
    "mel_spectrograms = process_dataset_parallel(dataset_path, save_dir)"
   ]
  },
  {
   "cell_type": "code",
   "execution_count": 7,
   "metadata": {},
   "outputs": [
    {
     "name": "stderr",
     "output_type": "stream",
     "text": [
      "Processing Tracks: 0it [00:00, ?it/s]"
     ]
    },
    {
     "name": "stderr",
     "output_type": "stream",
     "text": [
      "Processing Tracks: 151it [00:33,  4.51it/s]\n"
     ]
    }
   ],
   "source": [
    "# Collect Spectrograms (Test)\n",
    "dataset_path = \"slakh2100_flac_redux/reduced_test\"\n",
    "save_dir = \"spectrograms_test\"  \n",
    "mel_spectrograms = process_dataset_parallel(dataset_path, save_dir)"
   ]
  },
  {
   "cell_type": "code",
   "execution_count": 8,
   "metadata": {},
   "outputs": [
    {
     "name": "stderr",
     "output_type": "stream",
     "text": [
      "Processing Tracks: 50it [00:10,  4.93it/s]\n"
     ]
    }
   ],
   "source": [
    "# Collect Spectrograms (Isolated)\n",
    "dataset_path = \"slakh2100_flac_redux/reduced_isolated\"\n",
    "save_dir = \"spectrograms_isolated\"  \n",
    "mel_spectrograms = process_dataset_parallel(dataset_path, save_dir)"
   ]
  },
  {
   "cell_type": "code",
   "execution_count": 12,
   "metadata": {},
   "outputs": [
    {
     "name": "stdout",
     "output_type": "stream",
     "text": [
      "(64, 40)\n"
     ]
    },
    {
     "data": {
      "image/png": "[encoded data removed]",
      "text/plain": [
       "<Figure size 800x500 with 2 Axes>"
      ]
     },
     "metadata": {},
     "output_type": "display_data"
    }
   ],
   "source": [
    "# Plotting Example\n",
    "spectrogram = np.load('spectrograms_test/Track01876_mel_spect.npy')\n",
    "print(spectrogram[0].shape)\n",
    "plt.figure(figsize=(8, 5))\n",
    "plt.imshow(spectrogram[11], aspect='auto', cmap='inferno')  \n",
    "plt.colorbar(format='%+2.0f dB')\n",
    "plt.title(\"Mel Spectrogram\")\n",
    "plt.xlabel(\"Time Frames\")\n",
    "plt.ylabel(\"Frequency Bins\")\n",
    "plt.show()"
   ]
  },
  {
   "cell_type": "code",
   "execution_count": 4,
   "metadata": {},
   "outputs": [
    {
     "name": "stdout",
     "output_type": "stream",
     "text": [
      "1st column Amplitude:\n",
      " [ 3.8660302  29.73983    18.389109   38.38227    40.06209    14.774754\n",
      " 13.597471    6.041364    4.678671    2.9946234   3.0150743   1.9735754\n",
      "  1.0844488   0.59227264  0.3359872   0.25715885]\n",
      "1st column in dB:\n",
      " [ 11.745305   29.46677    25.291214   31.682613   32.054672   23.390406\n",
      "  22.669163   15.622701   13.402451    9.526844    9.58596     5.9050746\n",
      "   0.7041815  -4.5495663  -9.473545  -11.79597  ]\n"
     ]
    }
   ],
   "source": [
    "amplitude_spectrogram = 10**(spectrogram[6] / 20)\n",
    "# Print amplitude values for the first and second columns\n",
    "print(\"1st column Amplitude:\\n\", amplitude_spectrogram[:, 0])\n",
    "print(\"1st column in dB:\\n\", spectrogram[6][:, 0])"
   ]
  }
 ],
 "metadata": {
  "kernelspec": {
   "display_name": "Python 3",
   "language": "python",
   "name": "python3"
  },
  "language_info": {
   "codemirror_mode": {
    "name": "ipython",
    "version": 3
   },
   "file_extension": ".py",
   "mimetype": "text/x-python",
   "name": "python",
   "nbconvert_exporter": "python",
   "pygments_lexer": "ipython3",
   "version": "undefined.undefined.undefined"
  }
 },
 "nbformat": 4,
 "nbformat_minor": 2
}
