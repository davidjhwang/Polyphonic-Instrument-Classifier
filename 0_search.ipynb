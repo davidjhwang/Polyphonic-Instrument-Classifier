{
 "cells": [
  {
   "cell_type": "code",
   "execution_count": 68,
   "metadata": {},
   "outputs": [],
   "source": [
    "import os\n",
    "import random\n",
    "import yaml\n",
    "import subprocess\n",
    "import platform\n",
    "from collections import defaultdict\n",
    "\n",
    "# Define dataset directory\n",
    "DIR_PATH = \"slakh2100_flac_redux/reduced_test\"\n",
    "\n",
    "# Load metadata.yaml from a track folder\n",
    "def load_metadata(track_path):\n",
    "    yaml_path = os.path.join(track_path, \"metadata.yaml\")\n",
    "    if not os.path.exists(yaml_path):\n",
    "        return None\n",
    "    with open(yaml_path, \"r\") as f:\n",
    "        return yaml.safe_load(f)"
   ]
  },
  {
   "cell_type": "code",
   "execution_count": 106,
   "metadata": {},
   "outputs": [
    {
     "name": "stdout",
     "output_type": "stream",
     "text": [
      "Total Stems: 24\n",
      "\n",
      "session_strings_pro_2_ensemble_modern.nkm: 1 (4.17%)\n",
      "session_strings_pro_2_ensemble_traditional.nkm: 3 (12.50%)\n",
      "solo_strings.nkm: 6 (25.00%)\n",
      "string_ensemble.nkm: 4 (16.67%)\n",
      "string_ensemble_essential.nkm: 3 (12.50%)\n",
      "viola_ensemble.nkm: 1 (4.17%)\n",
      "viola_solo.nkm: 4 (16.67%)\n",
      "violin_ensemble.nkm: 1 (4.17%)\n",
      "violin_solo.nkm: 1 (4.17%)\n"
     ]
    }
   ],
   "source": [
    "def summarize_plugins_by_class(inst_class):\n",
    "    plugin_counts = defaultdict(int)\n",
    "    total_stems = 0\n",
    "\n",
    "    track_folders = [f for f in os.listdir(DIR_PATH) if f.startswith(\"Track\")]\n",
    "    if not track_folders:\n",
    "        print(\"No tracks found.\")\n",
    "        return\n",
    "\n",
    "    for track in track_folders:\n",
    "        track_path = os.path.join(DIR_PATH, track)\n",
    "        metadata_path = os.path.join(track_path, \"metadata.yaml\")\n",
    "\n",
    "        if not os.path.isfile(metadata_path):\n",
    "            continue\n",
    "\n",
    "        try:\n",
    "            with open(metadata_path, \"r\") as file:\n",
    "                metadata = yaml.safe_load(file)\n",
    "                stems = metadata.get(\"stems\", {})\n",
    "\n",
    "                for stem_data in stems.values():\n",
    "                    if stem_data.get(\"inst_class\") == inst_class:\n",
    "                        plugin_name = stem_data.get(\"plugin_name\", \"Unknown\")\n",
    "                        plugin_counts[plugin_name] += 1\n",
    "                        total_stems += 1\n",
    "\n",
    "        except yaml.YAMLError as e:\n",
    "            print(f\"Error parsing {metadata_path}: {e}\")\n",
    "\n",
    "    print(f\"Total Stems: {total_stems}\\n\")\n",
    "    for plugin, count in sorted(plugin_counts.items(), key=lambda x: x[0].lower()):\n",
    "        percentage = (count / total_stems) * 100 if total_stems > 0 else 0\n",
    "        print(f\"{plugin}: {count} ({percentage:.2f}%)\")\n",
    "\n",
    "# Example usage\n",
    "summarize_plugins_by_class(\"Strings\")"
   ]
  },
  {
   "cell_type": "code",
   "execution_count": 110,
   "metadata": {},
   "outputs": [
    {
     "name": "stdout",
     "output_type": "stream",
     "text": [
      "Track: Track02000\n",
      "  Stem: S09\n",
      "    program_num: 40\n",
      "    plugin_name: violin_solo.nkm\n"
     ]
    }
   ],
   "source": [
    "# Search stems by program_num or plugin_name\n",
    "def find_matching_stems(metadata, program_num=None, plugin_name=None):\n",
    "    stems = metadata.get(\"stems\", {}) if metadata else {}\n",
    "    return [\n",
    "        (stem_id, stem)\n",
    "        for stem_id, stem in stems.items()\n",
    "        if (program_num is not None and stem.get(\"program_num\") == program_num) or\n",
    "           (plugin_name is not None and stem.get(\"plugin_name\") == plugin_name)\n",
    "    ]\n",
    "\n",
    "# Open a folder in file explorer\n",
    "def open_file_explorer(path):\n",
    "    match platform.system():\n",
    "        case \"Windows\": os.startfile(path)\n",
    "        case \"Darwin\": subprocess.run([\"open\", path])\n",
    "        case \"Linux\": subprocess.run([\"xdg-open\", path])\n",
    "        case _: print(f\"Unsupported OS: {platform.system()}\")\n",
    "\n",
    "# Find a random track that matches a given program_num or plugin_name\n",
    "def find_random_track(program_num=None, plugin_name=None):\n",
    "    if not (program_num or plugin_name):\n",
    "        print(\"Specify either program_num or plugin_name.\")\n",
    "        return\n",
    "\n",
    "    track_folders = [f for f in os.listdir(DIR_PATH) if f.startswith(\"Track\")]\n",
    "    if not track_folders:\n",
    "        print(\"No tracks found.\")\n",
    "        return\n",
    "\n",
    "    random.shuffle(track_folders)\n",
    "    for track in track_folders:\n",
    "        track_path = os.path.join(DIR_PATH, track)\n",
    "        matches = find_matching_stems(load_metadata(track_path), program_num, plugin_name)\n",
    "\n",
    "        if matches:\n",
    "            print(f\"Track: {track}\")\n",
    "            for stem_id, stem in matches:\n",
    "                print(f\"  Stem: {stem_id}\")\n",
    "                print(f\"    program_num: {stem.get('program_num', 'N/A')}\")\n",
    "                print(f\"    plugin_name: {stem.get('plugin_name', 'N/A')}\")\n",
    "            open_file_explorer(track_path)\n",
    "            return\n",
    "\n",
    "    print(\"No matching stems found.\")\n",
    "\n",
    "# find_random_track(program_num=6)\n",
    "find_random_track(plugin_name=\"violin_solo.nkm\")"
   ]
  }
 ],
 "metadata": {
  "kernelspec": {
   "display_name": "Python 3",
   "language": "python",
   "name": "python3"
  },
  "language_info": {
   "codemirror_mode": {
    "name": "ipython",
    "version": 3
   },
   "file_extension": ".py",
   "mimetype": "text/x-python",
   "name": "python",
   "nbconvert_exporter": "python",
   "pygments_lexer": "ipython3",
   "version": "3.10.6"
  }
 },
 "nbformat": 4,
 "nbformat_minor": 2
}
